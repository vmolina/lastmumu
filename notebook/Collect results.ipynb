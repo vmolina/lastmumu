{
 "cells": [
  {
   "cell_type": "code",
   "execution_count": 1,
   "metadata": {
    "ExecuteTime": {
     "end_time": "2016-12-08T20:02:01.972328",
     "start_time": "2016-12-08T20:02:01.613774"
    },
    "collapsed": true
   },
   "outputs": [],
   "source": [
    "import numpy as np\n",
    "import shelve\n",
    "import pickle\n",
    "import glob"
   ]
  },
  {
   "cell_type": "code",
   "execution_count": 11,
   "metadata": {
    "ExecuteTime": {
     "end_time": "2016-12-08T20:17:07.153312",
     "start_time": "2016-12-08T20:17:07.150542"
    },
    "collapsed": false,
    "scrolled": true
   },
   "outputs": [],
   "source": [
    "filenames = sorted(glob.glob('../results/new/2Rep_*'))\n"
   ]
  },
  {
   "cell_type": "code",
   "execution_count": 12,
   "metadata": {
    "ExecuteTime": {
     "end_time": "2016-12-08T20:17:08.938892",
     "start_time": "2016-12-08T20:17:08.873547"
    },
    "collapsed": false,
    "scrolled": true
   },
   "outputs": [
    {
     "data": {
      "text/plain": [
       "['scarce_betas_random',\n",
       " 'scarce_path_random',\n",
       " 'scarce_pred_random',\n",
       " 'scarce_mod_random']"
      ]
     },
     "execution_count": 12,
     "metadata": {},
     "output_type": "execute_result"
    }
   ],
   "source": [
    "final_dict = {}\n",
    "with open(filenames[0]) as f:\n",
    "    shelf = pickle.load(f)\n",
    "    for key in shelf.keys():\n",
    "        final_dict[key] = []\n",
    "final_dict.keys()"
   ]
  },
  {
   "cell_type": "code",
   "execution_count": 10,
   "metadata": {
    "ExecuteTime": {
     "end_time": "2016-12-08T20:16:28.201413",
     "start_time": "2016-12-08T20:16:28.197078"
    },
    "collapsed": false
   },
   "outputs": [
    {
     "data": {
      "text/plain": [
       "(4, 400)"
      ]
     },
     "execution_count": 10,
     "metadata": {},
     "output_type": "execute_result"
    }
   ],
   "source": [
    "final_dict['scarce_betas_random'][0].shape"
   ]
  },
  {
   "cell_type": "code",
   "execution_count": 13,
   "metadata": {
    "ExecuteTime": {
     "end_time": "2016-12-08T20:17:13.514241",
     "start_time": "2016-12-08T20:17:11.125459"
    },
    "collapsed": false,
    "scrolled": true
   },
   "outputs": [
    {
     "name": "stdout",
     "output_type": "stream",
     "text": [
      "../results/new/2Rep_0_Fold_0\n",
      "../results/new/2Rep_0_Fold_1\n",
      "../results/new/2Rep_0_Fold_2\n",
      "../results/new/2Rep_0_Fold_3\n",
      "../results/new/2Rep_0_Fold_4\n",
      "../results/new/2Rep_0_Fold_5\n",
      "../results/new/2Rep_0_Fold_6\n",
      "../results/new/2Rep_0_Fold_7\n",
      "../results/new/2Rep_0_Fold_8\n",
      "../results/new/2Rep_0_Fold_9\n",
      "../results/new/2Rep_1_Fold_0\n",
      "../results/new/2Rep_1_Fold_1\n",
      "../results/new/2Rep_1_Fold_2\n",
      "../results/new/2Rep_1_Fold_3\n",
      "../results/new/2Rep_1_Fold_4\n",
      "../results/new/2Rep_1_Fold_5\n",
      "../results/new/2Rep_1_Fold_6\n",
      "../results/new/2Rep_1_Fold_7\n",
      "../results/new/2Rep_1_Fold_8\n",
      "../results/new/2Rep_1_Fold_9\n",
      "../results/new/2Rep_2_Fold_0\n",
      "../results/new/2Rep_2_Fold_1\n",
      "../results/new/2Rep_2_Fold_2\n",
      "../results/new/2Rep_2_Fold_3\n",
      "../results/new/2Rep_2_Fold_4\n",
      "../results/new/2Rep_2_Fold_5\n",
      "../results/new/2Rep_2_Fold_6\n",
      "../results/new/2Rep_2_Fold_7\n",
      "../results/new/2Rep_2_Fold_8\n",
      "../results/new/2Rep_2_Fold_9\n",
      "../results/new/2Rep_3_Fold_0\n",
      "../results/new/2Rep_3_Fold_1\n",
      "../results/new/2Rep_3_Fold_2\n",
      "../results/new/2Rep_3_Fold_3\n",
      "../results/new/2Rep_3_Fold_4\n",
      "../results/new/2Rep_3_Fold_5\n",
      "../results/new/2Rep_3_Fold_6\n",
      "../results/new/2Rep_3_Fold_7\n",
      "../results/new/2Rep_3_Fold_8\n",
      "../results/new/2Rep_3_Fold_9\n",
      "../results/new/2Rep_4_Fold_0\n",
      "../results/new/2Rep_4_Fold_1\n",
      "../results/new/2Rep_4_Fold_2\n",
      "../results/new/2Rep_4_Fold_3\n",
      "../results/new/2Rep_4_Fold_4\n",
      "../results/new/2Rep_4_Fold_5\n",
      "../results/new/2Rep_4_Fold_6\n",
      "../results/new/2Rep_4_Fold_7\n",
      "../results/new/2Rep_4_Fold_8\n",
      "../results/new/2Rep_4_Fold_9\n"
     ]
    }
   ],
   "source": [
    "for filename in filenames:\n",
    "    print filename\n",
    "    with open(filename) as f:\n",
    "        shelf = pickle.load(f)\n",
    "    for key in shelf.keys():\n",
    "        if type(shelf[key]) is list:\n",
    "            if len(shelf[key]) > 0:\n",
    "                final_dict[key].append(shelf[key][0])\n",
    "            else: \n",
    "                final_dict[key].append(None)\n",
    "        else:\n",
    "            final_dict[key].append(shelf[key])\n"
   ]
  },
  {
   "cell_type": "code",
   "execution_count": 14,
   "metadata": {
    "ExecuteTime": {
     "end_time": "2016-12-08T20:17:27.705920",
     "start_time": "2016-12-08T20:17:27.702869"
    },
    "collapsed": false
   },
   "outputs": [
    {
     "name": "stdout",
     "output_type": "stream",
     "text": [
      "scarce_betas_random 50\n",
      "scarce_path_random 50\n",
      "scarce_pred_random 50\n",
      "scarce_mod_random 50\n"
     ]
    }
   ],
   "source": [
    "for key in final_dict:\n",
    "    print key, len(final_dict[key])"
   ]
  },
  {
   "cell_type": "code",
   "execution_count": 26,
   "metadata": {
    "ExecuteTime": {
     "end_time": "2016-12-08T20:23:46.252218",
     "start_time": "2016-12-08T20:23:44.281782"
    },
    "collapsed": true
   },
   "outputs": [],
   "source": [
    "shelf = shelve.open(\"../Stability_selection_2_thetas.shelve\")\n",
    "for key in final_dict:\n",
    "    shelf[key] = final_dict[key]\n",
    "shelf.sync()\n",
    "shelf.close()"
   ]
  },
  {
   "cell_type": "code",
   "execution_count": 27,
   "metadata": {
    "ExecuteTime": {
     "end_time": "2016-12-08T20:23:58.796551",
     "start_time": "2016-12-08T20:23:58.784047"
    },
    "collapsed": false
   },
   "outputs": [
    {
     "name": "stdout",
     "output_type": "stream",
     "text": [
      "(4, 400)\n"
     ]
    }
   ],
   "source": [
    "shelf = shelve.open(\"../Stability_selection_2_thetas.shelve\")\n",
    "print shelf['scarce_betas_bellon'][0].shape\n",
    "shelf.close()"
   ]
  },
  {
   "cell_type": "code",
   "execution_count": null,
   "metadata": {
    "collapsed": true
   },
   "outputs": [],
   "source": []
  }
 ],
 "metadata": {
  "kernelspec": {
   "display_name": "Python 2",
   "language": "python",
   "name": "python2"
  },
  "language_info": {
   "codemirror_mode": {
    "name": "ipython",
    "version": 2
   },
   "file_extension": ".py",
   "mimetype": "text/x-python",
   "name": "python",
   "nbconvert_exporter": "python",
   "pygments_lexer": "ipython2",
   "version": "2.7.12"
  },
  "toc": {
   "toc_cell": false,
   "toc_number_sections": true,
   "toc_threshold": 6,
   "toc_window_display": false
  }
 },
 "nbformat": 4,
 "nbformat_minor": 1
}
